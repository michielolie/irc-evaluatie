{
 "cells": [
  {
   "cell_type": "code",
   "execution_count": 1,
   "metadata": {},
   "outputs": [],
   "source": [
    "import geopandas as gpd\n",
    "import contextily as cx\n",
    "\n",
    "from matplotlib.colors import TwoSlopeNorm\n",
    "import matplotlib.pyplot as plt\n",
    "%matplotlib inline"
   ]
  },
  {
   "cell_type": "code",
   "execution_count": 2,
   "metadata": {},
   "outputs": [
    {
     "data": {
      "text/html": [
       "<div>\n",
       "<style scoped>\n",
       "    .dataframe tbody tr th:only-of-type {\n",
       "        vertical-align: middle;\n",
       "    }\n",
       "\n",
       "    .dataframe tbody tr th {\n",
       "        vertical-align: top;\n",
       "    }\n",
       "\n",
       "    .dataframe thead th {\n",
       "        text-align: right;\n",
       "    }\n",
       "</style>\n",
       "<table border=\"1\" class=\"dataframe\">\n",
       "  <thead>\n",
       "    <tr style=\"text-align: right;\">\n",
       "      <th></th>\n",
       "      <th>ID</th>\n",
       "      <th>WEERGAVENAAM</th>\n",
       "      <th>organisation</th>\n",
       "      <th>Type</th>\n",
       "      <th>start_date</th>\n",
       "      <th>use</th>\n",
       "      <th>rel_bias_irc_early</th>\n",
       "      <th>rel_bias_irc_realtime</th>\n",
       "      <th>geometry</th>\n",
       "    </tr>\n",
       "  </thead>\n",
       "  <tbody>\n",
       "    <tr>\n",
       "      <th>0</th>\n",
       "      <td>MPN-AS-2014</td>\n",
       "      <td>Woudaap</td>\n",
       "      <td>HHNK</td>\n",
       "      <td>Ott (Pluvio 2)</td>\n",
       "      <td>2021-10-05</td>\n",
       "      <td>True</td>\n",
       "      <td>22.04</td>\n",
       "      <td>-21.45</td>\n",
       "      <td>POINT (4.77469 52.51884)</td>\n",
       "    </tr>\n",
       "    <tr>\n",
       "      <th>1</th>\n",
       "      <td>MPN-AS-2418</td>\n",
       "      <td>Snevert</td>\n",
       "      <td>HHNK</td>\n",
       "      <td>MPS TRwS-215</td>\n",
       "      <td>2020-07-21</td>\n",
       "      <td>True</td>\n",
       "      <td>28.62</td>\n",
       "      <td>-28.59</td>\n",
       "      <td>POINT (4.82639 52.78656)</td>\n",
       "    </tr>\n",
       "  </tbody>\n",
       "</table>\n",
       "</div>"
      ],
      "text/plain": [
       "            ID WEERGAVENAAM organisation            Type  start_date   use  \\\n",
       "0  MPN-AS-2014      Woudaap         HHNK  Ott (Pluvio 2)  2021-10-05  True   \n",
       "1  MPN-AS-2418      Snevert         HHNK    MPS TRwS-215  2020-07-21  True   \n",
       "\n",
       "   rel_bias_irc_early  rel_bias_irc_realtime                  geometry  \n",
       "0               22.04                 -21.45  POINT (4.77469 52.51884)  \n",
       "1               28.62                 -28.59  POINT (4.82639 52.78656)  "
      ]
     },
     "execution_count": 2,
     "metadata": {},
     "output_type": "execute_result"
    }
   ],
   "source": [
    "gdf = gpd.read_file(\"../01_data/ground_stations_stats.gpkg\")\n",
    "gdf = gdf.to_crs(4326)\n",
    "gdf.head(2)"
   ]
  },
  {
   "cell_type": "code",
   "execution_count": 3,
   "metadata": {},
   "outputs": [],
   "source": [
    "import plotly.express as px\n",
    "import plotly.graph_objects as go\n",
    "px.set_mapbox_access_token('pk.eyJ1IjoidGhvbWFzZGV1ciIsImEiOiJja3FtMzQwaWkwOHF6MnZsaTM4M3BlcXRnIn0.2xsdzK4AO26jfoTrQGF_RQ')"
   ]
  },
  {
   "cell_type": "code",
   "execution_count": 4,
   "metadata": {},
   "outputs": [],
   "source": [
    "def mapplot(column):\n",
    "    fig = px.scatter_mapbox(gdf, \n",
    "                            lat=gdf.geometry.y, \n",
    "                            lon=gdf.geometry.x, \n",
    "                            color=column, \n",
    "                            color_continuous_scale=\"Turbo\", \n",
    "                            range_color=[-100, 100],\n",
    "                            hover_name=\"ID\",\n",
    "                            hover_data=[\"WEERGAVENAAM\", \"organisation\", \"Type\", \"rel_bias_irc_early\", \"rel_bias_irc_realtime\"],\n",
    "                            title=column.replace(\"_\", \" \"),\n",
    "                            zoom=6\n",
    "                            )\n",
    "    fig.update_layout(margin=dict(l=0,r=0,b=0,t=50))\n",
    "    fig.update_traces(marker=dict(size=12))\n",
    "    return fig"
   ]
  },
  {
   "cell_type": "code",
   "execution_count": 5,
   "metadata": {},
   "outputs": [
    {
     "data": {
      "application/vnd.plotly.v1+json": {
       "config": {
        "plotlyServerURL": "https://plot.ly"
       },
       "data": [
        {
         "customdata": [
          [
           "Woudaap",
           "HHNK",
           "Ott (Pluvio 2)",
           22.04,
           -21.45
          ],
          [
           "Snevert",
           "HHNK",
           "MPS TRwS-215",
           28.62,
           -28.59
          ],
          [
           "Zeevang",
           "HHNK",
           "Ott (Pluvio 2)",
           5.09,
           -13.24
          ],
          [
           "Zuiderwoudergouw",
           "HHNK",
           "Ott (Pluvio 2)",
           14.17,
           -29.83
          ],
          [
           "Willem Alexander",
           "HHNK",
           "Ott (Pluvio 2)",
           1.43,
           -34.26
          ],
          [
           "Grootdammerpolder",
           "HHNK",
           "MPS TRwS-215",
           23.04,
           -29.75
          ],
          [
           "Drieban",
           "HHNK",
           "MPS TRwS-215",
           110.85,
           -13.97
          ],
          [
           "Alkmaar (RWZI)",
           "HHNK",
           "MPS TRwS-215",
           24.47,
           -25.08
          ],
          [
           "Kolk van Dussen",
           "HHNK",
           "MPS TRwS-215",
           31.81,
           -31.54
          ],
          [
           "Beverwijk",
           "HHNK",
           "MPS TRwS-215",
           66.08,
           7.73
          ],
          [
           "Woudweeren",
           "HHNK",
           "Ott (Pluvio 2)",
           -94.55,
           -96.57
          ],
          [
           "Katwoude (RWZI)",
           "HHNK",
           "MPS TRwS-215",
           27.44,
           -25.07
          ],
          [
           "Wieringen (RWZI)",
           "HHNK",
           "MPS TRwS-215",
           22.43,
           -29.64
          ],
          [
           "Wieringerwerf (RWZI)",
           "HHNK",
           "MPS TRwS-215",
           22.84,
           -34.74
          ],
          [
           "Regenmeter Roermond, 1.P.2",
           "WL",
           null,
           -2.17,
           -17.62
          ],
          [
           "Regenmeter Mariahoop, 3.P.29",
           "WL",
           null,
           -73.58,
           -74.85
          ],
          [
           "Regenmeter Millen, 6.P.21",
           "WL",
           null,
           18.15,
           -19.78
          ],
          [
           "Regenmeter Spaubeek, 6.P.40",
           "WL",
           null,
           -11.29,
           -36.04
          ],
          [
           "Regenmeter Stein, 8.P.18",
           "WL",
           null,
           -99.54,
           -99.51
          ],
          [
           "Regenmeter Ransdaal, 10.P.30",
           "WL",
           null,
           22.26,
           -13.13
          ],
          [
           "Regenmeter Maastricht, 10.P.36",
           "WL",
           null,
           1.02,
           -20.75
          ],
          [
           "Regenmeter Vaals, 12.P.25",
           "WL",
           null,
           -1.34,
           -31.05
          ],
          [
           "Regenmeter Noorbeek, 15.P.41",
           "WL",
           null,
           -3.05,
           -29.42
          ],
          [
           "Regenmeter Kaffeberg, 18.P.37",
           "WL",
           null,
           5.56,
           -15.69
          ],
          [
           "6509 Jacobshoeve",
           "HDSR",
           null,
           4.77,
           -7.04
          ],
          [
           "6510 Driebergen",
           "HDSR",
           null,
           -3.93,
           -16.64
          ],
          [
           "6511 Zegveld",
           "HDSR",
           null,
           22.84,
           -4.35
          ],
          [
           "6512 De Meern",
           "HDSR",
           null,
           2.23,
           -16.77
          ],
          [
           "6513 Oud Kamerik Stuw",
           "HDSR",
           null,
           16.57,
           -10.44
          ],
          [
           "6514 Thematerweg",
           "HDSR",
           null,
           18.07,
           -4.62
          ],
          [
           "6515 Keulevaart",
           "HDSR",
           null,
           13.11,
           -7.17
          ],
          [
           "6516 Ruigkade Zuid",
           "HDSR",
           null,
           18.69,
           1.79
          ],
          [
           "6517 Kerkeland",
           "HDSR",
           null,
           3.41,
           -8.93
          ],
          [
           "6518 Nachtsloot",
           "HDSR",
           null,
           3.29,
           -7.61
          ]
         ],
         "hovertemplate": "<b>%{hovertext}</b><br><br>lat=%{lat}<br>lon=%{lon}<br>WEERGAVENAAM=%{customdata[0]}<br>organisation=%{customdata[1]}<br>Type=%{customdata[2]}<br>rel_bias_irc_early=%{customdata[3]}<br>rel_bias_irc_realtime=%{marker.color}<extra></extra>",
         "hovertext": [
          "MPN-AS-2014",
          "MPN-AS-2418",
          "MPN-N-72",
          "MPN-AS-2371",
          "MPN-A-4143",
          "MPN-AS-2429",
          "MPN-AS-2416",
          "MPN-A-4146",
          "MPN-A-4147",
          "MPN-A-4154",
          "MPN-A-4156",
          "MPN-A-4157",
          "MPN-AS-2336",
          "MPN-AS-2407",
          "Roermond",
          "Mariahoop",
          "Millen",
          "Spaubeek",
          "Stein",
          "Ransdaal",
          "Maastricht",
          "Vaals",
          "Noorbeek",
          "Kaffeberg",
          "NS6509",
          "NS6510",
          "NS6511",
          "NS6512",
          "NS6513",
          "NS6514",
          "NS6515",
          "NS6516",
          "NS6517",
          "NS6518"
         ],
         "lat": [
          52.5188412559635,
          52.78656117579403,
          52.52800970811548,
          52.440232100245275,
          52.57602511980079,
          52.71969718763411,
          52.67265641340034,
          52.64475684409097,
          52.751309042747586,
          52.48312058210445,
          52.43972883994798,
          52.4826626643661,
          52.92855307329165,
          52.83466957777306,
          51.21978910194034,
          51.09780869633987,
          51.02349278222544,
          50.925669433803485,
          50.974249044618794,
          50.856232098601744,
          50.87176751397203,
          50.765643402038094,
          50.76444728135113,
          50.883698008363915,
          52.00951905268202,
          52.045414266239945,
          52.10875477459483,
          52.08973877343089,
          52.14142095925228,
          52.1208872655711,
          52.00401523615228,
          52.033601227276414,
          52.01193759926698,
          51.993069983021435
         ],
         "legendgroup": "",
         "lon": [
          4.774694038102386,
          4.826391505447517,
          5.006152421126771,
          5.047071397220919,
          4.79199076558962,
          4.704206177429968,
          5.2421378998430646,
          4.739798419353974,
          4.988214498476274,
          4.667006789103001,
          4.983371798811097,
          5.0318453983592635,
          5.032266718305986,
          5.022222033662559,
          5.986756054889296,
          5.943408603909076,
          5.876563916729085,
          5.835861116108732,
          5.753057972181856,
          5.902261037348027,
          5.70418898965003,
          6.004582019502452,
          5.825855321639593,
          6.048089506979571,
          5.364510670589254,
          5.260137659356907,
          4.826265238743152,
          5.001644439443494,
          4.874369326362952,
          5.005873006990379,
          4.789856327400087,
          4.98098211428562,
          5.151789444448928,
          5.262571704942597
         ],
         "marker": {
          "color": [
           -21.45,
           -28.59,
           -13.24,
           -29.83,
           -34.26,
           -29.75,
           -13.97,
           -25.08,
           -31.54,
           7.73,
           -96.57,
           -25.07,
           -29.64,
           -34.74,
           -17.62,
           -74.85,
           -19.78,
           -36.04,
           -99.51,
           -13.13,
           -20.75,
           -31.05,
           -29.42,
           -15.69,
           -7.04,
           -16.64,
           -4.35,
           -16.77,
           -10.44,
           -4.62,
           -7.17,
           1.79,
           -8.93,
           -7.61
          ],
          "coloraxis": "coloraxis",
          "size": 12
         },
         "mode": "markers",
         "name": "",
         "showlegend": false,
         "subplot": "mapbox",
         "type": "scattermapbox"
        }
       ],
       "layout": {
        "coloraxis": {
         "cmax": 100,
         "cmin": -100,
         "colorbar": {
          "title": {
           "text": "rel_bias_irc_realtime"
          }
         },
         "colorscale": [
          [
           0,
           "#30123b"
          ],
          [
           0.07142857142857142,
           "#4145ab"
          ],
          [
           0.14285714285714285,
           "#4675ed"
          ],
          [
           0.21428571428571427,
           "#39a2fc"
          ],
          [
           0.2857142857142857,
           "#1bcfd4"
          ],
          [
           0.35714285714285715,
           "#24eca6"
          ],
          [
           0.42857142857142855,
           "#61fc6c"
          ],
          [
           0.5,
           "#a4fc3b"
          ],
          [
           0.5714285714285714,
           "#d1e834"
          ],
          [
           0.6428571428571429,
           "#f3c63a"
          ],
          [
           0.7142857142857143,
           "#fe9b2d"
          ],
          [
           0.7857142857142857,
           "#f36315"
          ],
          [
           0.8571428571428571,
           "#d93806"
          ],
          [
           0.9285714285714286,
           "#b11901"
          ],
          [
           1,
           "#7a0402"
          ]
         ]
        },
        "legend": {
         "tracegroupgap": 0
        },
        "mapbox": {
         "accesstoken": "pk.eyJ1IjoidGhvbWFzZGV1ciIsImEiOiJja3FtMzQwaWkwOHF6MnZsaTM4M3BlcXRnIn0.2xsdzK4AO26jfoTrQGF_RQ",
         "center": {
          "lat": 51.96317588488289,
          "lon": 5.24282336271569
         },
         "domain": {
          "x": [
           0,
           1
          ],
          "y": [
           0,
           1
          ]
         },
         "zoom": 6
        },
        "margin": {
         "b": 0,
         "l": 0,
         "r": 0,
         "t": 50
        },
        "template": {
         "data": {
          "bar": [
           {
            "error_x": {
             "color": "#2a3f5f"
            },
            "error_y": {
             "color": "#2a3f5f"
            },
            "marker": {
             "line": {
              "color": "#E5ECF6",
              "width": 0.5
             },
             "pattern": {
              "fillmode": "overlay",
              "size": 10,
              "solidity": 0.2
             }
            },
            "type": "bar"
           }
          ],
          "barpolar": [
           {
            "marker": {
             "line": {
              "color": "#E5ECF6",
              "width": 0.5
             },
             "pattern": {
              "fillmode": "overlay",
              "size": 10,
              "solidity": 0.2
             }
            },
            "type": "barpolar"
           }
          ],
          "carpet": [
           {
            "aaxis": {
             "endlinecolor": "#2a3f5f",
             "gridcolor": "white",
             "linecolor": "white",
             "minorgridcolor": "white",
             "startlinecolor": "#2a3f5f"
            },
            "baxis": {
             "endlinecolor": "#2a3f5f",
             "gridcolor": "white",
             "linecolor": "white",
             "minorgridcolor": "white",
             "startlinecolor": "#2a3f5f"
            },
            "type": "carpet"
           }
          ],
          "choropleth": [
           {
            "colorbar": {
             "outlinewidth": 0,
             "ticks": ""
            },
            "type": "choropleth"
           }
          ],
          "contour": [
           {
            "colorbar": {
             "outlinewidth": 0,
             "ticks": ""
            },
            "colorscale": [
             [
              0,
              "#0d0887"
             ],
             [
              0.1111111111111111,
              "#46039f"
             ],
             [
              0.2222222222222222,
              "#7201a8"
             ],
             [
              0.3333333333333333,
              "#9c179e"
             ],
             [
              0.4444444444444444,
              "#bd3786"
             ],
             [
              0.5555555555555556,
              "#d8576b"
             ],
             [
              0.6666666666666666,
              "#ed7953"
             ],
             [
              0.7777777777777778,
              "#fb9f3a"
             ],
             [
              0.8888888888888888,
              "#fdca26"
             ],
             [
              1,
              "#f0f921"
             ]
            ],
            "type": "contour"
           }
          ],
          "contourcarpet": [
           {
            "colorbar": {
             "outlinewidth": 0,
             "ticks": ""
            },
            "type": "contourcarpet"
           }
          ],
          "heatmap": [
           {
            "colorbar": {
             "outlinewidth": 0,
             "ticks": ""
            },
            "colorscale": [
             [
              0,
              "#0d0887"
             ],
             [
              0.1111111111111111,
              "#46039f"
             ],
             [
              0.2222222222222222,
              "#7201a8"
             ],
             [
              0.3333333333333333,
              "#9c179e"
             ],
             [
              0.4444444444444444,
              "#bd3786"
             ],
             [
              0.5555555555555556,
              "#d8576b"
             ],
             [
              0.6666666666666666,
              "#ed7953"
             ],
             [
              0.7777777777777778,
              "#fb9f3a"
             ],
             [
              0.8888888888888888,
              "#fdca26"
             ],
             [
              1,
              "#f0f921"
             ]
            ],
            "type": "heatmap"
           }
          ],
          "heatmapgl": [
           {
            "colorbar": {
             "outlinewidth": 0,
             "ticks": ""
            },
            "colorscale": [
             [
              0,
              "#0d0887"
             ],
             [
              0.1111111111111111,
              "#46039f"
             ],
             [
              0.2222222222222222,
              "#7201a8"
             ],
             [
              0.3333333333333333,
              "#9c179e"
             ],
             [
              0.4444444444444444,
              "#bd3786"
             ],
             [
              0.5555555555555556,
              "#d8576b"
             ],
             [
              0.6666666666666666,
              "#ed7953"
             ],
             [
              0.7777777777777778,
              "#fb9f3a"
             ],
             [
              0.8888888888888888,
              "#fdca26"
             ],
             [
              1,
              "#f0f921"
             ]
            ],
            "type": "heatmapgl"
           }
          ],
          "histogram": [
           {
            "marker": {
             "pattern": {
              "fillmode": "overlay",
              "size": 10,
              "solidity": 0.2
             }
            },
            "type": "histogram"
           }
          ],
          "histogram2d": [
           {
            "colorbar": {
             "outlinewidth": 0,
             "ticks": ""
            },
            "colorscale": [
             [
              0,
              "#0d0887"
             ],
             [
              0.1111111111111111,
              "#46039f"
             ],
             [
              0.2222222222222222,
              "#7201a8"
             ],
             [
              0.3333333333333333,
              "#9c179e"
             ],
             [
              0.4444444444444444,
              "#bd3786"
             ],
             [
              0.5555555555555556,
              "#d8576b"
             ],
             [
              0.6666666666666666,
              "#ed7953"
             ],
             [
              0.7777777777777778,
              "#fb9f3a"
             ],
             [
              0.8888888888888888,
              "#fdca26"
             ],
             [
              1,
              "#f0f921"
             ]
            ],
            "type": "histogram2d"
           }
          ],
          "histogram2dcontour": [
           {
            "colorbar": {
             "outlinewidth": 0,
             "ticks": ""
            },
            "colorscale": [
             [
              0,
              "#0d0887"
             ],
             [
              0.1111111111111111,
              "#46039f"
             ],
             [
              0.2222222222222222,
              "#7201a8"
             ],
             [
              0.3333333333333333,
              "#9c179e"
             ],
             [
              0.4444444444444444,
              "#bd3786"
             ],
             [
              0.5555555555555556,
              "#d8576b"
             ],
             [
              0.6666666666666666,
              "#ed7953"
             ],
             [
              0.7777777777777778,
              "#fb9f3a"
             ],
             [
              0.8888888888888888,
              "#fdca26"
             ],
             [
              1,
              "#f0f921"
             ]
            ],
            "type": "histogram2dcontour"
           }
          ],
          "mesh3d": [
           {
            "colorbar": {
             "outlinewidth": 0,
             "ticks": ""
            },
            "type": "mesh3d"
           }
          ],
          "parcoords": [
           {
            "line": {
             "colorbar": {
              "outlinewidth": 0,
              "ticks": ""
             }
            },
            "type": "parcoords"
           }
          ],
          "pie": [
           {
            "automargin": true,
            "type": "pie"
           }
          ],
          "scatter": [
           {
            "fillpattern": {
             "fillmode": "overlay",
             "size": 10,
             "solidity": 0.2
            },
            "type": "scatter"
           }
          ],
          "scatter3d": [
           {
            "line": {
             "colorbar": {
              "outlinewidth": 0,
              "ticks": ""
             }
            },
            "marker": {
             "colorbar": {
              "outlinewidth": 0,
              "ticks": ""
             }
            },
            "type": "scatter3d"
           }
          ],
          "scattercarpet": [
           {
            "marker": {
             "colorbar": {
              "outlinewidth": 0,
              "ticks": ""
             }
            },
            "type": "scattercarpet"
           }
          ],
          "scattergeo": [
           {
            "marker": {
             "colorbar": {
              "outlinewidth": 0,
              "ticks": ""
             }
            },
            "type": "scattergeo"
           }
          ],
          "scattergl": [
           {
            "marker": {
             "colorbar": {
              "outlinewidth": 0,
              "ticks": ""
             }
            },
            "type": "scattergl"
           }
          ],
          "scattermapbox": [
           {
            "marker": {
             "colorbar": {
              "outlinewidth": 0,
              "ticks": ""
             }
            },
            "type": "scattermapbox"
           }
          ],
          "scatterpolar": [
           {
            "marker": {
             "colorbar": {
              "outlinewidth": 0,
              "ticks": ""
             }
            },
            "type": "scatterpolar"
           }
          ],
          "scatterpolargl": [
           {
            "marker": {
             "colorbar": {
              "outlinewidth": 0,
              "ticks": ""
             }
            },
            "type": "scatterpolargl"
           }
          ],
          "scatterternary": [
           {
            "marker": {
             "colorbar": {
              "outlinewidth": 0,
              "ticks": ""
             }
            },
            "type": "scatterternary"
           }
          ],
          "surface": [
           {
            "colorbar": {
             "outlinewidth": 0,
             "ticks": ""
            },
            "colorscale": [
             [
              0,
              "#0d0887"
             ],
             [
              0.1111111111111111,
              "#46039f"
             ],
             [
              0.2222222222222222,
              "#7201a8"
             ],
             [
              0.3333333333333333,
              "#9c179e"
             ],
             [
              0.4444444444444444,
              "#bd3786"
             ],
             [
              0.5555555555555556,
              "#d8576b"
             ],
             [
              0.6666666666666666,
              "#ed7953"
             ],
             [
              0.7777777777777778,
              "#fb9f3a"
             ],
             [
              0.8888888888888888,
              "#fdca26"
             ],
             [
              1,
              "#f0f921"
             ]
            ],
            "type": "surface"
           }
          ],
          "table": [
           {
            "cells": {
             "fill": {
              "color": "#EBF0F8"
             },
             "line": {
              "color": "white"
             }
            },
            "header": {
             "fill": {
              "color": "#C8D4E3"
             },
             "line": {
              "color": "white"
             }
            },
            "type": "table"
           }
          ]
         },
         "layout": {
          "annotationdefaults": {
           "arrowcolor": "#2a3f5f",
           "arrowhead": 0,
           "arrowwidth": 1
          },
          "autotypenumbers": "strict",
          "coloraxis": {
           "colorbar": {
            "outlinewidth": 0,
            "ticks": ""
           }
          },
          "colorscale": {
           "diverging": [
            [
             0,
             "#8e0152"
            ],
            [
             0.1,
             "#c51b7d"
            ],
            [
             0.2,
             "#de77ae"
            ],
            [
             0.3,
             "#f1b6da"
            ],
            [
             0.4,
             "#fde0ef"
            ],
            [
             0.5,
             "#f7f7f7"
            ],
            [
             0.6,
             "#e6f5d0"
            ],
            [
             0.7,
             "#b8e186"
            ],
            [
             0.8,
             "#7fbc41"
            ],
            [
             0.9,
             "#4d9221"
            ],
            [
             1,
             "#276419"
            ]
           ],
           "sequential": [
            [
             0,
             "#0d0887"
            ],
            [
             0.1111111111111111,
             "#46039f"
            ],
            [
             0.2222222222222222,
             "#7201a8"
            ],
            [
             0.3333333333333333,
             "#9c179e"
            ],
            [
             0.4444444444444444,
             "#bd3786"
            ],
            [
             0.5555555555555556,
             "#d8576b"
            ],
            [
             0.6666666666666666,
             "#ed7953"
            ],
            [
             0.7777777777777778,
             "#fb9f3a"
            ],
            [
             0.8888888888888888,
             "#fdca26"
            ],
            [
             1,
             "#f0f921"
            ]
           ],
           "sequentialminus": [
            [
             0,
             "#0d0887"
            ],
            [
             0.1111111111111111,
             "#46039f"
            ],
            [
             0.2222222222222222,
             "#7201a8"
            ],
            [
             0.3333333333333333,
             "#9c179e"
            ],
            [
             0.4444444444444444,
             "#bd3786"
            ],
            [
             0.5555555555555556,
             "#d8576b"
            ],
            [
             0.6666666666666666,
             "#ed7953"
            ],
            [
             0.7777777777777778,
             "#fb9f3a"
            ],
            [
             0.8888888888888888,
             "#fdca26"
            ],
            [
             1,
             "#f0f921"
            ]
           ]
          },
          "colorway": [
           "#636efa",
           "#EF553B",
           "#00cc96",
           "#ab63fa",
           "#FFA15A",
           "#19d3f3",
           "#FF6692",
           "#B6E880",
           "#FF97FF",
           "#FECB52"
          ],
          "font": {
           "color": "#2a3f5f"
          },
          "geo": {
           "bgcolor": "white",
           "lakecolor": "white",
           "landcolor": "#E5ECF6",
           "showlakes": true,
           "showland": true,
           "subunitcolor": "white"
          },
          "hoverlabel": {
           "align": "left"
          },
          "hovermode": "closest",
          "mapbox": {
           "style": "light"
          },
          "paper_bgcolor": "white",
          "plot_bgcolor": "#E5ECF6",
          "polar": {
           "angularaxis": {
            "gridcolor": "white",
            "linecolor": "white",
            "ticks": ""
           },
           "bgcolor": "#E5ECF6",
           "radialaxis": {
            "gridcolor": "white",
            "linecolor": "white",
            "ticks": ""
           }
          },
          "scene": {
           "xaxis": {
            "backgroundcolor": "#E5ECF6",
            "gridcolor": "white",
            "gridwidth": 2,
            "linecolor": "white",
            "showbackground": true,
            "ticks": "",
            "zerolinecolor": "white"
           },
           "yaxis": {
            "backgroundcolor": "#E5ECF6",
            "gridcolor": "white",
            "gridwidth": 2,
            "linecolor": "white",
            "showbackground": true,
            "ticks": "",
            "zerolinecolor": "white"
           },
           "zaxis": {
            "backgroundcolor": "#E5ECF6",
            "gridcolor": "white",
            "gridwidth": 2,
            "linecolor": "white",
            "showbackground": true,
            "ticks": "",
            "zerolinecolor": "white"
           }
          },
          "shapedefaults": {
           "line": {
            "color": "#2a3f5f"
           }
          },
          "ternary": {
           "aaxis": {
            "gridcolor": "white",
            "linecolor": "white",
            "ticks": ""
           },
           "baxis": {
            "gridcolor": "white",
            "linecolor": "white",
            "ticks": ""
           },
           "bgcolor": "#E5ECF6",
           "caxis": {
            "gridcolor": "white",
            "linecolor": "white",
            "ticks": ""
           }
          },
          "title": {
           "x": 0.05
          },
          "xaxis": {
           "automargin": true,
           "gridcolor": "white",
           "linecolor": "white",
           "ticks": "",
           "title": {
            "standoff": 15
           },
           "zerolinecolor": "white",
           "zerolinewidth": 2
          },
          "yaxis": {
           "automargin": true,
           "gridcolor": "white",
           "linecolor": "white",
           "ticks": "",
           "title": {
            "standoff": 15
           },
           "zerolinecolor": "white",
           "zerolinewidth": 2
          }
         }
        },
        "title": {
         "text": "rel bias irc realtime"
        }
       }
      }
     },
     "metadata": {},
     "output_type": "display_data"
    }
   ],
   "source": [
    "mapplot(\"rel_bias_irc_realtime\")"
   ]
  },
  {
   "cell_type": "code",
   "execution_count": 6,
   "metadata": {},
   "outputs": [
    {
     "data": {
      "application/vnd.plotly.v1+json": {
       "config": {
        "plotlyServerURL": "https://plot.ly"
       },
       "data": [
        {
         "customdata": [
          [
           "Woudaap",
           "HHNK",
           "Ott (Pluvio 2)",
           22.04,
           -21.45
          ],
          [
           "Snevert",
           "HHNK",
           "MPS TRwS-215",
           28.62,
           -28.59
          ],
          [
           "Zeevang",
           "HHNK",
           "Ott (Pluvio 2)",
           5.09,
           -13.24
          ],
          [
           "Zuiderwoudergouw",
           "HHNK",
           "Ott (Pluvio 2)",
           14.17,
           -29.83
          ],
          [
           "Willem Alexander",
           "HHNK",
           "Ott (Pluvio 2)",
           1.43,
           -34.26
          ],
          [
           "Grootdammerpolder",
           "HHNK",
           "MPS TRwS-215",
           23.04,
           -29.75
          ],
          [
           "Drieban",
           "HHNK",
           "MPS TRwS-215",
           110.85,
           -13.97
          ],
          [
           "Alkmaar (RWZI)",
           "HHNK",
           "MPS TRwS-215",
           24.47,
           -25.08
          ],
          [
           "Kolk van Dussen",
           "HHNK",
           "MPS TRwS-215",
           31.81,
           -31.54
          ],
          [
           "Beverwijk",
           "HHNK",
           "MPS TRwS-215",
           66.08,
           7.73
          ],
          [
           "Woudweeren",
           "HHNK",
           "Ott (Pluvio 2)",
           -94.55,
           -96.57
          ],
          [
           "Katwoude (RWZI)",
           "HHNK",
           "MPS TRwS-215",
           27.44,
           -25.07
          ],
          [
           "Wieringen (RWZI)",
           "HHNK",
           "MPS TRwS-215",
           22.43,
           -29.64
          ],
          [
           "Wieringerwerf (RWZI)",
           "HHNK",
           "MPS TRwS-215",
           22.84,
           -34.74
          ],
          [
           "Regenmeter Roermond, 1.P.2",
           "WL",
           null,
           -2.17,
           -17.62
          ],
          [
           "Regenmeter Mariahoop, 3.P.29",
           "WL",
           null,
           -73.58,
           -74.85
          ],
          [
           "Regenmeter Millen, 6.P.21",
           "WL",
           null,
           18.15,
           -19.78
          ],
          [
           "Regenmeter Spaubeek, 6.P.40",
           "WL",
           null,
           -11.29,
           -36.04
          ],
          [
           "Regenmeter Stein, 8.P.18",
           "WL",
           null,
           -99.54,
           -99.51
          ],
          [
           "Regenmeter Ransdaal, 10.P.30",
           "WL",
           null,
           22.26,
           -13.13
          ],
          [
           "Regenmeter Maastricht, 10.P.36",
           "WL",
           null,
           1.02,
           -20.75
          ],
          [
           "Regenmeter Vaals, 12.P.25",
           "WL",
           null,
           -1.34,
           -31.05
          ],
          [
           "Regenmeter Noorbeek, 15.P.41",
           "WL",
           null,
           -3.05,
           -29.42
          ],
          [
           "Regenmeter Kaffeberg, 18.P.37",
           "WL",
           null,
           5.56,
           -15.69
          ],
          [
           "6509 Jacobshoeve",
           "HDSR",
           null,
           4.77,
           -7.04
          ],
          [
           "6510 Driebergen",
           "HDSR",
           null,
           -3.93,
           -16.64
          ],
          [
           "6511 Zegveld",
           "HDSR",
           null,
           22.84,
           -4.35
          ],
          [
           "6512 De Meern",
           "HDSR",
           null,
           2.23,
           -16.77
          ],
          [
           "6513 Oud Kamerik Stuw",
           "HDSR",
           null,
           16.57,
           -10.44
          ],
          [
           "6514 Thematerweg",
           "HDSR",
           null,
           18.07,
           -4.62
          ],
          [
           "6515 Keulevaart",
           "HDSR",
           null,
           13.11,
           -7.17
          ],
          [
           "6516 Ruigkade Zuid",
           "HDSR",
           null,
           18.69,
           1.79
          ],
          [
           "6517 Kerkeland",
           "HDSR",
           null,
           3.41,
           -8.93
          ],
          [
           "6518 Nachtsloot",
           "HDSR",
           null,
           3.29,
           -7.61
          ]
         ],
         "hovertemplate": "<b>%{hovertext}</b><br><br>lat=%{lat}<br>lon=%{lon}<br>WEERGAVENAAM=%{customdata[0]}<br>organisation=%{customdata[1]}<br>Type=%{customdata[2]}<br>rel_bias_irc_early=%{marker.color}<br>rel_bias_irc_realtime=%{customdata[4]}<extra></extra>",
         "hovertext": [
          "MPN-AS-2014",
          "MPN-AS-2418",
          "MPN-N-72",
          "MPN-AS-2371",
          "MPN-A-4143",
          "MPN-AS-2429",
          "MPN-AS-2416",
          "MPN-A-4146",
          "MPN-A-4147",
          "MPN-A-4154",
          "MPN-A-4156",
          "MPN-A-4157",
          "MPN-AS-2336",
          "MPN-AS-2407",
          "Roermond",
          "Mariahoop",
          "Millen",
          "Spaubeek",
          "Stein",
          "Ransdaal",
          "Maastricht",
          "Vaals",
          "Noorbeek",
          "Kaffeberg",
          "NS6509",
          "NS6510",
          "NS6511",
          "NS6512",
          "NS6513",
          "NS6514",
          "NS6515",
          "NS6516",
          "NS6517",
          "NS6518"
         ],
         "lat": [
          52.5188412559635,
          52.78656117579403,
          52.52800970811548,
          52.440232100245275,
          52.57602511980079,
          52.71969718763411,
          52.67265641340034,
          52.64475684409097,
          52.751309042747586,
          52.48312058210445,
          52.43972883994798,
          52.4826626643661,
          52.92855307329165,
          52.83466957777306,
          51.21978910194034,
          51.09780869633987,
          51.02349278222544,
          50.925669433803485,
          50.974249044618794,
          50.856232098601744,
          50.87176751397203,
          50.765643402038094,
          50.76444728135113,
          50.883698008363915,
          52.00951905268202,
          52.045414266239945,
          52.10875477459483,
          52.08973877343089,
          52.14142095925228,
          52.1208872655711,
          52.00401523615228,
          52.033601227276414,
          52.01193759926698,
          51.993069983021435
         ],
         "legendgroup": "",
         "lon": [
          4.774694038102386,
          4.826391505447517,
          5.006152421126771,
          5.047071397220919,
          4.79199076558962,
          4.704206177429968,
          5.2421378998430646,
          4.739798419353974,
          4.988214498476274,
          4.667006789103001,
          4.983371798811097,
          5.0318453983592635,
          5.032266718305986,
          5.022222033662559,
          5.986756054889296,
          5.943408603909076,
          5.876563916729085,
          5.835861116108732,
          5.753057972181856,
          5.902261037348027,
          5.70418898965003,
          6.004582019502452,
          5.825855321639593,
          6.048089506979571,
          5.364510670589254,
          5.260137659356907,
          4.826265238743152,
          5.001644439443494,
          4.874369326362952,
          5.005873006990379,
          4.789856327400087,
          4.98098211428562,
          5.151789444448928,
          5.262571704942597
         ],
         "marker": {
          "color": [
           22.04,
           28.62,
           5.09,
           14.17,
           1.43,
           23.04,
           110.85,
           24.47,
           31.81,
           66.08,
           -94.55,
           27.44,
           22.43,
           22.84,
           -2.17,
           -73.58,
           18.15,
           -11.29,
           -99.54,
           22.26,
           1.02,
           -1.34,
           -3.05,
           5.56,
           4.77,
           -3.93,
           22.84,
           2.23,
           16.57,
           18.07,
           13.11,
           18.69,
           3.41,
           3.29
          ],
          "coloraxis": "coloraxis",
          "size": 12
         },
         "mode": "markers",
         "name": "",
         "showlegend": false,
         "subplot": "mapbox",
         "type": "scattermapbox"
        }
       ],
       "layout": {
        "coloraxis": {
         "cmax": 100,
         "cmin": -100,
         "colorbar": {
          "title": {
           "text": "rel_bias_irc_early"
          }
         },
         "colorscale": [
          [
           0,
           "#30123b"
          ],
          [
           0.07142857142857142,
           "#4145ab"
          ],
          [
           0.14285714285714285,
           "#4675ed"
          ],
          [
           0.21428571428571427,
           "#39a2fc"
          ],
          [
           0.2857142857142857,
           "#1bcfd4"
          ],
          [
           0.35714285714285715,
           "#24eca6"
          ],
          [
           0.42857142857142855,
           "#61fc6c"
          ],
          [
           0.5,
           "#a4fc3b"
          ],
          [
           0.5714285714285714,
           "#d1e834"
          ],
          [
           0.6428571428571429,
           "#f3c63a"
          ],
          [
           0.7142857142857143,
           "#fe9b2d"
          ],
          [
           0.7857142857142857,
           "#f36315"
          ],
          [
           0.8571428571428571,
           "#d93806"
          ],
          [
           0.9285714285714286,
           "#b11901"
          ],
          [
           1,
           "#7a0402"
          ]
         ]
        },
        "legend": {
         "tracegroupgap": 0
        },
        "mapbox": {
         "accesstoken": "pk.eyJ1IjoidGhvbWFzZGV1ciIsImEiOiJja3FtMzQwaWkwOHF6MnZsaTM4M3BlcXRnIn0.2xsdzK4AO26jfoTrQGF_RQ",
         "center": {
          "lat": 51.96317588488289,
          "lon": 5.24282336271569
         },
         "domain": {
          "x": [
           0,
           1
          ],
          "y": [
           0,
           1
          ]
         },
         "zoom": 6
        },
        "margin": {
         "b": 0,
         "l": 0,
         "r": 0,
         "t": 50
        },
        "template": {
         "data": {
          "bar": [
           {
            "error_x": {
             "color": "#2a3f5f"
            },
            "error_y": {
             "color": "#2a3f5f"
            },
            "marker": {
             "line": {
              "color": "#E5ECF6",
              "width": 0.5
             },
             "pattern": {
              "fillmode": "overlay",
              "size": 10,
              "solidity": 0.2
             }
            },
            "type": "bar"
           }
          ],
          "barpolar": [
           {
            "marker": {
             "line": {
              "color": "#E5ECF6",
              "width": 0.5
             },
             "pattern": {
              "fillmode": "overlay",
              "size": 10,
              "solidity": 0.2
             }
            },
            "type": "barpolar"
           }
          ],
          "carpet": [
           {
            "aaxis": {
             "endlinecolor": "#2a3f5f",
             "gridcolor": "white",
             "linecolor": "white",
             "minorgridcolor": "white",
             "startlinecolor": "#2a3f5f"
            },
            "baxis": {
             "endlinecolor": "#2a3f5f",
             "gridcolor": "white",
             "linecolor": "white",
             "minorgridcolor": "white",
             "startlinecolor": "#2a3f5f"
            },
            "type": "carpet"
           }
          ],
          "choropleth": [
           {
            "colorbar": {
             "outlinewidth": 0,
             "ticks": ""
            },
            "type": "choropleth"
           }
          ],
          "contour": [
           {
            "colorbar": {
             "outlinewidth": 0,
             "ticks": ""
            },
            "colorscale": [
             [
              0,
              "#0d0887"
             ],
             [
              0.1111111111111111,
              "#46039f"
             ],
             [
              0.2222222222222222,
              "#7201a8"
             ],
             [
              0.3333333333333333,
              "#9c179e"
             ],
             [
              0.4444444444444444,
              "#bd3786"
             ],
             [
              0.5555555555555556,
              "#d8576b"
             ],
             [
              0.6666666666666666,
              "#ed7953"
             ],
             [
              0.7777777777777778,
              "#fb9f3a"
             ],
             [
              0.8888888888888888,
              "#fdca26"
             ],
             [
              1,
              "#f0f921"
             ]
            ],
            "type": "contour"
           }
          ],
          "contourcarpet": [
           {
            "colorbar": {
             "outlinewidth": 0,
             "ticks": ""
            },
            "type": "contourcarpet"
           }
          ],
          "heatmap": [
           {
            "colorbar": {
             "outlinewidth": 0,
             "ticks": ""
            },
            "colorscale": [
             [
              0,
              "#0d0887"
             ],
             [
              0.1111111111111111,
              "#46039f"
             ],
             [
              0.2222222222222222,
              "#7201a8"
             ],
             [
              0.3333333333333333,
              "#9c179e"
             ],
             [
              0.4444444444444444,
              "#bd3786"
             ],
             [
              0.5555555555555556,
              "#d8576b"
             ],
             [
              0.6666666666666666,
              "#ed7953"
             ],
             [
              0.7777777777777778,
              "#fb9f3a"
             ],
             [
              0.8888888888888888,
              "#fdca26"
             ],
             [
              1,
              "#f0f921"
             ]
            ],
            "type": "heatmap"
           }
          ],
          "heatmapgl": [
           {
            "colorbar": {
             "outlinewidth": 0,
             "ticks": ""
            },
            "colorscale": [
             [
              0,
              "#0d0887"
             ],
             [
              0.1111111111111111,
              "#46039f"
             ],
             [
              0.2222222222222222,
              "#7201a8"
             ],
             [
              0.3333333333333333,
              "#9c179e"
             ],
             [
              0.4444444444444444,
              "#bd3786"
             ],
             [
              0.5555555555555556,
              "#d8576b"
             ],
             [
              0.6666666666666666,
              "#ed7953"
             ],
             [
              0.7777777777777778,
              "#fb9f3a"
             ],
             [
              0.8888888888888888,
              "#fdca26"
             ],
             [
              1,
              "#f0f921"
             ]
            ],
            "type": "heatmapgl"
           }
          ],
          "histogram": [
           {
            "marker": {
             "pattern": {
              "fillmode": "overlay",
              "size": 10,
              "solidity": 0.2
             }
            },
            "type": "histogram"
           }
          ],
          "histogram2d": [
           {
            "colorbar": {
             "outlinewidth": 0,
             "ticks": ""
            },
            "colorscale": [
             [
              0,
              "#0d0887"
             ],
             [
              0.1111111111111111,
              "#46039f"
             ],
             [
              0.2222222222222222,
              "#7201a8"
             ],
             [
              0.3333333333333333,
              "#9c179e"
             ],
             [
              0.4444444444444444,
              "#bd3786"
             ],
             [
              0.5555555555555556,
              "#d8576b"
             ],
             [
              0.6666666666666666,
              "#ed7953"
             ],
             [
              0.7777777777777778,
              "#fb9f3a"
             ],
             [
              0.8888888888888888,
              "#fdca26"
             ],
             [
              1,
              "#f0f921"
             ]
            ],
            "type": "histogram2d"
           }
          ],
          "histogram2dcontour": [
           {
            "colorbar": {
             "outlinewidth": 0,
             "ticks": ""
            },
            "colorscale": [
             [
              0,
              "#0d0887"
             ],
             [
              0.1111111111111111,
              "#46039f"
             ],
             [
              0.2222222222222222,
              "#7201a8"
             ],
             [
              0.3333333333333333,
              "#9c179e"
             ],
             [
              0.4444444444444444,
              "#bd3786"
             ],
             [
              0.5555555555555556,
              "#d8576b"
             ],
             [
              0.6666666666666666,
              "#ed7953"
             ],
             [
              0.7777777777777778,
              "#fb9f3a"
             ],
             [
              0.8888888888888888,
              "#fdca26"
             ],
             [
              1,
              "#f0f921"
             ]
            ],
            "type": "histogram2dcontour"
           }
          ],
          "mesh3d": [
           {
            "colorbar": {
             "outlinewidth": 0,
             "ticks": ""
            },
            "type": "mesh3d"
           }
          ],
          "parcoords": [
           {
            "line": {
             "colorbar": {
              "outlinewidth": 0,
              "ticks": ""
             }
            },
            "type": "parcoords"
           }
          ],
          "pie": [
           {
            "automargin": true,
            "type": "pie"
           }
          ],
          "scatter": [
           {
            "fillpattern": {
             "fillmode": "overlay",
             "size": 10,
             "solidity": 0.2
            },
            "type": "scatter"
           }
          ],
          "scatter3d": [
           {
            "line": {
             "colorbar": {
              "outlinewidth": 0,
              "ticks": ""
             }
            },
            "marker": {
             "colorbar": {
              "outlinewidth": 0,
              "ticks": ""
             }
            },
            "type": "scatter3d"
           }
          ],
          "scattercarpet": [
           {
            "marker": {
             "colorbar": {
              "outlinewidth": 0,
              "ticks": ""
             }
            },
            "type": "scattercarpet"
           }
          ],
          "scattergeo": [
           {
            "marker": {
             "colorbar": {
              "outlinewidth": 0,
              "ticks": ""
             }
            },
            "type": "scattergeo"
           }
          ],
          "scattergl": [
           {
            "marker": {
             "colorbar": {
              "outlinewidth": 0,
              "ticks": ""
             }
            },
            "type": "scattergl"
           }
          ],
          "scattermapbox": [
           {
            "marker": {
             "colorbar": {
              "outlinewidth": 0,
              "ticks": ""
             }
            },
            "type": "scattermapbox"
           }
          ],
          "scatterpolar": [
           {
            "marker": {
             "colorbar": {
              "outlinewidth": 0,
              "ticks": ""
             }
            },
            "type": "scatterpolar"
           }
          ],
          "scatterpolargl": [
           {
            "marker": {
             "colorbar": {
              "outlinewidth": 0,
              "ticks": ""
             }
            },
            "type": "scatterpolargl"
           }
          ],
          "scatterternary": [
           {
            "marker": {
             "colorbar": {
              "outlinewidth": 0,
              "ticks": ""
             }
            },
            "type": "scatterternary"
           }
          ],
          "surface": [
           {
            "colorbar": {
             "outlinewidth": 0,
             "ticks": ""
            },
            "colorscale": [
             [
              0,
              "#0d0887"
             ],
             [
              0.1111111111111111,
              "#46039f"
             ],
             [
              0.2222222222222222,
              "#7201a8"
             ],
             [
              0.3333333333333333,
              "#9c179e"
             ],
             [
              0.4444444444444444,
              "#bd3786"
             ],
             [
              0.5555555555555556,
              "#d8576b"
             ],
             [
              0.6666666666666666,
              "#ed7953"
             ],
             [
              0.7777777777777778,
              "#fb9f3a"
             ],
             [
              0.8888888888888888,
              "#fdca26"
             ],
             [
              1,
              "#f0f921"
             ]
            ],
            "type": "surface"
           }
          ],
          "table": [
           {
            "cells": {
             "fill": {
              "color": "#EBF0F8"
             },
             "line": {
              "color": "white"
             }
            },
            "header": {
             "fill": {
              "color": "#C8D4E3"
             },
             "line": {
              "color": "white"
             }
            },
            "type": "table"
           }
          ]
         },
         "layout": {
          "annotationdefaults": {
           "arrowcolor": "#2a3f5f",
           "arrowhead": 0,
           "arrowwidth": 1
          },
          "autotypenumbers": "strict",
          "coloraxis": {
           "colorbar": {
            "outlinewidth": 0,
            "ticks": ""
           }
          },
          "colorscale": {
           "diverging": [
            [
             0,
             "#8e0152"
            ],
            [
             0.1,
             "#c51b7d"
            ],
            [
             0.2,
             "#de77ae"
            ],
            [
             0.3,
             "#f1b6da"
            ],
            [
             0.4,
             "#fde0ef"
            ],
            [
             0.5,
             "#f7f7f7"
            ],
            [
             0.6,
             "#e6f5d0"
            ],
            [
             0.7,
             "#b8e186"
            ],
            [
             0.8,
             "#7fbc41"
            ],
            [
             0.9,
             "#4d9221"
            ],
            [
             1,
             "#276419"
            ]
           ],
           "sequential": [
            [
             0,
             "#0d0887"
            ],
            [
             0.1111111111111111,
             "#46039f"
            ],
            [
             0.2222222222222222,
             "#7201a8"
            ],
            [
             0.3333333333333333,
             "#9c179e"
            ],
            [
             0.4444444444444444,
             "#bd3786"
            ],
            [
             0.5555555555555556,
             "#d8576b"
            ],
            [
             0.6666666666666666,
             "#ed7953"
            ],
            [
             0.7777777777777778,
             "#fb9f3a"
            ],
            [
             0.8888888888888888,
             "#fdca26"
            ],
            [
             1,
             "#f0f921"
            ]
           ],
           "sequentialminus": [
            [
             0,
             "#0d0887"
            ],
            [
             0.1111111111111111,
             "#46039f"
            ],
            [
             0.2222222222222222,
             "#7201a8"
            ],
            [
             0.3333333333333333,
             "#9c179e"
            ],
            [
             0.4444444444444444,
             "#bd3786"
            ],
            [
             0.5555555555555556,
             "#d8576b"
            ],
            [
             0.6666666666666666,
             "#ed7953"
            ],
            [
             0.7777777777777778,
             "#fb9f3a"
            ],
            [
             0.8888888888888888,
             "#fdca26"
            ],
            [
             1,
             "#f0f921"
            ]
           ]
          },
          "colorway": [
           "#636efa",
           "#EF553B",
           "#00cc96",
           "#ab63fa",
           "#FFA15A",
           "#19d3f3",
           "#FF6692",
           "#B6E880",
           "#FF97FF",
           "#FECB52"
          ],
          "font": {
           "color": "#2a3f5f"
          },
          "geo": {
           "bgcolor": "white",
           "lakecolor": "white",
           "landcolor": "#E5ECF6",
           "showlakes": true,
           "showland": true,
           "subunitcolor": "white"
          },
          "hoverlabel": {
           "align": "left"
          },
          "hovermode": "closest",
          "mapbox": {
           "style": "light"
          },
          "paper_bgcolor": "white",
          "plot_bgcolor": "#E5ECF6",
          "polar": {
           "angularaxis": {
            "gridcolor": "white",
            "linecolor": "white",
            "ticks": ""
           },
           "bgcolor": "#E5ECF6",
           "radialaxis": {
            "gridcolor": "white",
            "linecolor": "white",
            "ticks": ""
           }
          },
          "scene": {
           "xaxis": {
            "backgroundcolor": "#E5ECF6",
            "gridcolor": "white",
            "gridwidth": 2,
            "linecolor": "white",
            "showbackground": true,
            "ticks": "",
            "zerolinecolor": "white"
           },
           "yaxis": {
            "backgroundcolor": "#E5ECF6",
            "gridcolor": "white",
            "gridwidth": 2,
            "linecolor": "white",
            "showbackground": true,
            "ticks": "",
            "zerolinecolor": "white"
           },
           "zaxis": {
            "backgroundcolor": "#E5ECF6",
            "gridcolor": "white",
            "gridwidth": 2,
            "linecolor": "white",
            "showbackground": true,
            "ticks": "",
            "zerolinecolor": "white"
           }
          },
          "shapedefaults": {
           "line": {
            "color": "#2a3f5f"
           }
          },
          "ternary": {
           "aaxis": {
            "gridcolor": "white",
            "linecolor": "white",
            "ticks": ""
           },
           "baxis": {
            "gridcolor": "white",
            "linecolor": "white",
            "ticks": ""
           },
           "bgcolor": "#E5ECF6",
           "caxis": {
            "gridcolor": "white",
            "linecolor": "white",
            "ticks": ""
           }
          },
          "title": {
           "x": 0.05
          },
          "xaxis": {
           "automargin": true,
           "gridcolor": "white",
           "linecolor": "white",
           "ticks": "",
           "title": {
            "standoff": 15
           },
           "zerolinecolor": "white",
           "zerolinewidth": 2
          },
          "yaxis": {
           "automargin": true,
           "gridcolor": "white",
           "linecolor": "white",
           "ticks": "",
           "title": {
            "standoff": 15
           },
           "zerolinecolor": "white",
           "zerolinewidth": 2
          }
         }
        },
        "title": {
         "text": "rel bias irc early"
        }
       }
      }
     },
     "metadata": {},
     "output_type": "display_data"
    }
   ],
   "source": [
    "mapplot(\"rel_bias_irc_early\")"
   ]
  },
  {
   "cell_type": "code",
   "execution_count": null,
   "metadata": {},
   "outputs": [],
   "source": []
  }
 ],
 "metadata": {
  "interpreter": {
   "hash": "c31c813ce6a96f6911feefe433614c79c0df3e52897d2237813a28b0e06639d9"
  },
  "kernelspec": {
   "display_name": "Python 3.8.13 ('geo-38')",
   "language": "python",
   "name": "python3"
  },
  "language_info": {
   "codemirror_mode": {
    "name": "ipython",
    "version": 3
   },
   "file_extension": ".py",
   "mimetype": "text/x-python",
   "name": "python",
   "nbconvert_exporter": "python",
   "pygments_lexer": "ipython3",
   "version": "3.8.13"
  },
  "orig_nbformat": 4
 },
 "nbformat": 4,
 "nbformat_minor": 2
}
