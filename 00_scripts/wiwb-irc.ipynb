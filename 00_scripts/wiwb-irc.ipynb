{
 "cells": [
  {
   "cell_type": "code",
   "execution_count": 8,
   "metadata": {},
   "outputs": [],
   "source": [
    "import functions.wiwb as wiwb\n",
    "from datetime import datetime"
   ]
  },
  {
   "cell_type": "code",
   "execution_count": 9,
   "metadata": {},
   "outputs": [],
   "source": [
    "import os\n",
    "os.environ[\"WIWB_USERNAME\"] = \"wsbd\"\n",
    "os.environ[\"WIWB_PASSWORD\"] = \"4B83lSttDBity1kBtYzO\""
   ]
  },
  {
   "cell_type": "code",
   "execution_count": 12,
   "metadata": {},
   "outputs": [
    {
     "ename": "KeyError",
     "evalue": "\"None of ['StartDate'] are in the columns\"",
     "output_type": "error",
     "traceback": [
      "\u001b[1;31m---------------------------------------------------------------------------\u001b[0m",
      "\u001b[1;31mKeyError\u001b[0m                                  Traceback (most recent call last)",
      "\u001b[1;32mc:\\thomas\\git\\irc-evaluatie\\00_scripts\\wiwb-irc.ipynb Cell 3'\u001b[0m in \u001b[0;36m<cell line: 4>\u001b[1;34m()\u001b[0m\n\u001b[0;32m      <a href='vscode-notebook-cell:/c%3A/thomas/git/irc-evaluatie/00_scripts/wiwb-irc.ipynb#ch0000001?line=0'>1</a>\u001b[0m start, end \u001b[39m=\u001b[39m datetime(\u001b[39m2021\u001b[39m,\u001b[39m4\u001b[39m,\u001b[39m1\u001b[39m), datetime(\u001b[39m2022\u001b[39m,\u001b[39m5\u001b[39m,\u001b[39m1\u001b[39m)\n\u001b[0;32m      <a href='vscode-notebook-cell:/c%3A/thomas/git/irc-evaluatie/00_scripts/wiwb-irc.ipynb#ch0000001?line=2'>3</a>\u001b[0m points, extent \u001b[39m=\u001b[39m wiwb\u001b[39m.\u001b[39mget_points()\n\u001b[1;32m----> <a href='vscode-notebook-cell:/c%3A/thomas/git/irc-evaluatie/00_scripts/wiwb-irc.ipynb#ch0000001?line=3'>4</a>\u001b[0m wiwb_realtime \u001b[39m=\u001b[39m wiwb\u001b[39m.\u001b[39;49mdownload_wiwb(\u001b[39m\"\u001b[39;49m\u001b[39mKNMI IRC Realtime\u001b[39;49m\u001b[39m\"\u001b[39;49m, points, start, end, extent)\n\u001b[0;32m      <a href='vscode-notebook-cell:/c%3A/thomas/git/irc-evaluatie/00_scripts/wiwb-irc.ipynb#ch0000001?line=4'>5</a>\u001b[0m wiwb_early \u001b[39m=\u001b[39m wiwb\u001b[39m.\u001b[39mdownload_wiwb(\u001b[39m\"\u001b[39m\u001b[39mKNMI IRC Early Reanalysis\u001b[39m\u001b[39m\"\u001b[39m, points, start, end, extent)\n",
      "File \u001b[1;32mc:\\thomas\\git\\irc-evaluatie\\00_scripts\\functions\\wiwb.py:100\u001b[0m, in \u001b[0;36mdownload_wiwb\u001b[1;34m(data_source, points, start, end, extent)\u001b[0m\n\u001b[0;32m     <a href='file:///c%3A/thomas/git/irc-evaluatie/00_scripts/functions/wiwb.py?line=88'>89</a>\u001b[0m downloader \u001b[39m=\u001b[39m GridDownloader(data_source\u001b[39m=\u001b[39mdata_source,\n\u001b[0;32m     <a href='file:///c%3A/thomas/git/irc-evaluatie/00_scripts/functions/wiwb.py?line=89'>90</a>\u001b[0m                         extent\u001b[39m=\u001b[39mextent,\n\u001b[0;32m     <a href='file:///c%3A/thomas/git/irc-evaluatie/00_scripts/functions/wiwb.py?line=90'>91</a>\u001b[0m                         \u001b[39mtype\u001b[39m\u001b[39m=\u001b[39m\u001b[39m'\u001b[39m\u001b[39mgrids\u001b[39m\u001b[39m'\u001b[39m,\n\u001b[1;32m   (...)\u001b[0m\n\u001b[0;32m     <a href='file:///c%3A/thomas/git/irc-evaluatie/00_scripts/functions/wiwb.py?line=96'>97</a>\u001b[0m                             ]\n\u001b[0;32m     <a href='file:///c%3A/thomas/git/irc-evaluatie/00_scripts/functions/wiwb.py?line=97'>98</a>\u001b[0m                             })\n\u001b[0;32m     <a href='file:///c%3A/thomas/git/irc-evaluatie/00_scripts/functions/wiwb.py?line=98'>99</a>\u001b[0m df \u001b[39m=\u001b[39m downloader\u001b[39m.\u001b[39mdownload(return_df\u001b[39m=\u001b[39m\u001b[39mTrue\u001b[39;00m)\n\u001b[1;32m--> <a href='file:///c%3A/thomas/git/irc-evaluatie/00_scripts/functions/wiwb.py?line=99'>100</a>\u001b[0m df\u001b[39m.\u001b[39;49mset_index(\u001b[39m'\u001b[39;49m\u001b[39mStartDate\u001b[39;49m\u001b[39m'\u001b[39;49m, inplace\u001b[39m=\u001b[39;49m\u001b[39mTrue\u001b[39;49;00m)\n\u001b[0;32m    <a href='file:///c%3A/thomas/git/irc-evaluatie/00_scripts/functions/wiwb.py?line=100'>101</a>\u001b[0m cells \u001b[39m=\u001b[39m downloader\u001b[39m.\u001b[39mcells\n\u001b[0;32m    <a href='file:///c%3A/thomas/git/irc-evaluatie/00_scripts/functions/wiwb.py?line=101'>102</a>\u001b[0m df \u001b[39m=\u001b[39m add_columns_for_points(df, cells, points)\n",
      "File \u001b[1;32m~\\Anaconda3\\envs\\geo-38\\lib\\site-packages\\pandas\\util\\_decorators.py:311\u001b[0m, in \u001b[0;36mdeprecate_nonkeyword_arguments.<locals>.decorate.<locals>.wrapper\u001b[1;34m(*args, **kwargs)\u001b[0m\n\u001b[0;32m    <a href='file:///c%3A/Users/deurlootj/Anaconda3/envs/geo-38/lib/site-packages/pandas/util/_decorators.py?line=304'>305</a>\u001b[0m \u001b[39mif\u001b[39;00m \u001b[39mlen\u001b[39m(args) \u001b[39m>\u001b[39m num_allow_args:\n\u001b[0;32m    <a href='file:///c%3A/Users/deurlootj/Anaconda3/envs/geo-38/lib/site-packages/pandas/util/_decorators.py?line=305'>306</a>\u001b[0m     warnings\u001b[39m.\u001b[39mwarn(\n\u001b[0;32m    <a href='file:///c%3A/Users/deurlootj/Anaconda3/envs/geo-38/lib/site-packages/pandas/util/_decorators.py?line=306'>307</a>\u001b[0m         msg\u001b[39m.\u001b[39mformat(arguments\u001b[39m=\u001b[39marguments),\n\u001b[0;32m    <a href='file:///c%3A/Users/deurlootj/Anaconda3/envs/geo-38/lib/site-packages/pandas/util/_decorators.py?line=307'>308</a>\u001b[0m         \u001b[39mFutureWarning\u001b[39;00m,\n\u001b[0;32m    <a href='file:///c%3A/Users/deurlootj/Anaconda3/envs/geo-38/lib/site-packages/pandas/util/_decorators.py?line=308'>309</a>\u001b[0m         stacklevel\u001b[39m=\u001b[39mstacklevel,\n\u001b[0;32m    <a href='file:///c%3A/Users/deurlootj/Anaconda3/envs/geo-38/lib/site-packages/pandas/util/_decorators.py?line=309'>310</a>\u001b[0m     )\n\u001b[1;32m--> <a href='file:///c%3A/Users/deurlootj/Anaconda3/envs/geo-38/lib/site-packages/pandas/util/_decorators.py?line=310'>311</a>\u001b[0m \u001b[39mreturn\u001b[39;00m func(\u001b[39m*\u001b[39;49margs, \u001b[39m*\u001b[39;49m\u001b[39m*\u001b[39;49mkwargs)\n",
      "File \u001b[1;32m~\\Anaconda3\\envs\\geo-38\\lib\\site-packages\\pandas\\core\\frame.py:5494\u001b[0m, in \u001b[0;36mDataFrame.set_index\u001b[1;34m(self, keys, drop, append, inplace, verify_integrity)\u001b[0m\n\u001b[0;32m   <a href='file:///c%3A/Users/deurlootj/Anaconda3/envs/geo-38/lib/site-packages/pandas/core/frame.py?line=5490'>5491</a>\u001b[0m                 missing\u001b[39m.\u001b[39mappend(col)\n\u001b[0;32m   <a href='file:///c%3A/Users/deurlootj/Anaconda3/envs/geo-38/lib/site-packages/pandas/core/frame.py?line=5492'>5493</a>\u001b[0m \u001b[39mif\u001b[39;00m missing:\n\u001b[1;32m-> <a href='file:///c%3A/Users/deurlootj/Anaconda3/envs/geo-38/lib/site-packages/pandas/core/frame.py?line=5493'>5494</a>\u001b[0m     \u001b[39mraise\u001b[39;00m \u001b[39mKeyError\u001b[39;00m(\u001b[39mf\u001b[39m\u001b[39m\"\u001b[39m\u001b[39mNone of \u001b[39m\u001b[39m{\u001b[39;00mmissing\u001b[39m}\u001b[39;00m\u001b[39m are in the columns\u001b[39m\u001b[39m\"\u001b[39m)\n\u001b[0;32m   <a href='file:///c%3A/Users/deurlootj/Anaconda3/envs/geo-38/lib/site-packages/pandas/core/frame.py?line=5495'>5496</a>\u001b[0m \u001b[39mif\u001b[39;00m inplace:\n\u001b[0;32m   <a href='file:///c%3A/Users/deurlootj/Anaconda3/envs/geo-38/lib/site-packages/pandas/core/frame.py?line=5496'>5497</a>\u001b[0m     frame \u001b[39m=\u001b[39m \u001b[39mself\u001b[39m\n",
      "\u001b[1;31mKeyError\u001b[0m: \"None of ['StartDate'] are in the columns\""
     ]
    }
   ],
   "source": [
    "start, end = datetime(2021,4,1), datetime(2022,5,1)\n",
    "\n",
    "points, extent = wiwb.get_points()\n",
    "wiwb_realtime = wiwb.download_wiwb(\"KNMI IRC Realtime\", points, start, end, extent)\n",
    "wiwb_early = wiwb.download_wiwb(\"KNMI IRC Early Reanalysis\", points, start, end, extent)"
   ]
  },
  {
   "cell_type": "code",
   "execution_count": 13,
   "metadata": {},
   "outputs": [
    {
     "data": {
      "text/plain": [
       "DateTime             Locatie              \n",
       "2022-05-01 00:00:00  Alkmaar (RWZI)           0.0\n",
       "                     Andijk                   0.0\n",
       "                     Anna Paulowna Kleiweg    0.0\n",
       "                     Assendelft               0.0\n",
       "                     Beemster (RWZI)          0.0\n",
       "                                             ... \n",
       "2022-05-09 23:55:00  Woudweeren               0.0\n",
       "                     Zaandam Oost (RWZI)      0.0\n",
       "                     Zeevang                  0.0\n",
       "                     Zuid Scharwoude          0.0\n",
       "                     Zuiderwoudergouw         0.0\n",
       "Name: neerslag, Length: 98496, dtype: float32"
      ]
     },
     "execution_count": 13,
     "metadata": {},
     "output_type": "execute_result"
    }
   ],
   "source": [
    "wiwb_realtime"
   ]
  },
  {
   "cell_type": "code",
   "execution_count": null,
   "metadata": {},
   "outputs": [],
   "source": []
  }
 ],
 "metadata": {
  "interpreter": {
   "hash": "caf53b3192e1752552b963ed9148dc5d49848e882ae7fcbcf711f51a7cfd64e2"
  },
  "kernelspec": {
   "display_name": "Python 3.10.4 ('geo')",
   "language": "python",
   "name": "python3"
  },
  "language_info": {
   "codemirror_mode": {
    "name": "ipython",
    "version": 3
   },
   "file_extension": ".py",
   "mimetype": "text/x-python",
   "name": "python",
   "nbconvert_exporter": "python",
   "pygments_lexer": "ipython3",
   "version": "3.8.13"
  },
  "orig_nbformat": 4
 },
 "nbformat": 4,
 "nbformat_minor": 2
}
